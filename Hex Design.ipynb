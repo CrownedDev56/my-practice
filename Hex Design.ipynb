{
 "cells": [
  {
   "cell_type": "code",
   "execution_count": 8,
   "id": "7593b390",
   "metadata": {},
   "outputs": [],
   "source": [
    "import turtle\n",
    "col = ('red', 'yellow', 'green', 'cyan', 'pink', 'white')\n"
   ]
  },
  {
   "cell_type": "code",
   "execution_count": 9,
   "id": "1d1b38c7",
   "metadata": {},
   "outputs": [],
   "source": [
    "t= turtle.Turtle()\n",
    "screen = turtle.Screen()\n",
    "screen.bgcolor('black')\n",
    "t.speed(25)"
   ]
  },
  {
   "cell_type": "code",
   "execution_count": 10,
   "id": "c8968913",
   "metadata": {},
   "outputs": [],
   "source": [
    "for i in range(150):\n",
    "    t.color(col[i%6])\n",
    "    t.forward(i*1.5)\n",
    "    t.left(59)\n",
    "    t.width(3)"
   ]
  },
  {
   "cell_type": "code",
   "execution_count": null,
   "id": "5b509bcd",
   "metadata": {},
   "outputs": [],
   "source": []
  }
 ],
 "metadata": {
  "kernelspec": {
   "display_name": "Python 3",
   "language": "python",
   "name": "python3"
  },
  "language_info": {
   "codemirror_mode": {
    "name": "ipython",
    "version": 3
   },
   "file_extension": ".py",
   "mimetype": "text/x-python",
   "name": "python",
   "nbconvert_exporter": "python",
   "pygments_lexer": "ipython3",
   "version": "3.7.10"
  }
 },
 "nbformat": 4,
 "nbformat_minor": 5
}
