{
 "cells": [
  {
   "cell_type": "code",
   "execution_count": 1,
   "id": "c86a89ad",
   "metadata": {},
   "outputs": [],
   "source": [
    " a = [1, 1, 2, 4, 5, 8, 13, 21, 34, 55, 89]"
   ]
  },
  {
   "cell_type": "code",
   "execution_count": 2,
   "id": "622d40bb",
   "metadata": {},
   "outputs": [],
   "source": [
    "x = []\n",
    "x.append(3)"
   ]
  },
  {
   "cell_type": "code",
   "execution_count": 3,
   "id": "d0263de1",
   "metadata": {},
   "outputs": [
    {
     "data": {
      "text/plain": [
       "[3]"
      ]
     },
     "execution_count": 3,
     "metadata": {},
     "output_type": "execute_result"
    }
   ],
   "source": [
    "x"
   ]
  },
  {
   "cell_type": "code",
   "execution_count": 4,
   "id": "afbb14d9",
   "metadata": {},
   "outputs": [],
   "source": [
    "my_list = [1,3, \"Michele\", [5,6,7]]"
   ]
  },
  {
   "cell_type": "code",
   "execution_count": 5,
   "id": "01896c85",
   "metadata": {},
   "outputs": [
    {
     "name": "stdout",
     "output_type": "stream",
     "text": [
      "1\n",
      "3\n",
      "Michele\n",
      "[5, 6, 7]\n"
     ]
    }
   ],
   "source": [
    "for i in my_list:\n",
    "    print(i)"
   ]
  },
  {
   "cell_type": "code",
   "execution_count": 6,
   "id": "893be99c",
   "metadata": {},
   "outputs": [
    {
     "name": "stdout",
     "output_type": "stream",
     "text": [
      "please enter your grade: 90\n",
      "90 = A\n"
     ]
    }
   ],
   "source": [
    "grade = int(input(\"please enter your grade: \"))\n",
    "if grade >= 90:\n",
    "    print(str(grade) + \" = A\")\n",
    "elif grade >= 80:\n",
    "    print(str(grade) + \" = B\")\n",
    "elif grade >= 70:\n",
    "    print(str(grade) + \" = C\")\n",
    "elif grade >= 65:\n",
    "    print(str(grade) + \" = D\")\n",
    "else:\n",
    "    print(str(grade) + \" = F\" )"
   ]
  },
  {
   "cell_type": "code",
   "execution_count": 7,
   "id": "037b4133",
   "metadata": {},
   "outputs": [
    {
     "name": "stdout",
     "output_type": "stream",
     "text": [
      "0\n",
      "1\n",
      "2\n",
      "3\n",
      "4\n",
      "5\n",
      "6\n",
      "7\n",
      "8\n",
      "9\n"
     ]
    }
   ],
   "source": [
    "i = 0\n",
    "while i < 10:\n",
    "    print(i)\n",
    "    i += 1"
   ]
  },
  {
   "cell_type": "code",
   "execution_count": null,
   "id": "1391b996",
   "metadata": {},
   "outputs": [],
   "source": []
  }
 ],
 "metadata": {
  "kernelspec": {
   "display_name": "Python 3",
   "language": "python",
   "name": "python3"
  },
  "language_info": {
   "codemirror_mode": {
    "name": "ipython",
    "version": 3
   },
   "file_extension": ".py",
   "mimetype": "text/x-python",
   "name": "python",
   "nbconvert_exporter": "python",
   "pygments_lexer": "ipython3",
   "version": "3.8.5"
  }
 },
 "nbformat": 4,
 "nbformat_minor": 5
}
