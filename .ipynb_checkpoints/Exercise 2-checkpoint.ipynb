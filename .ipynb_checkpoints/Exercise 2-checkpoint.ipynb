{
 "cells": [
  {
   "cell_type": "code",
   "execution_count": 5,
   "id": "7ddc7e6d",
   "metadata": {},
   "outputs": [
    {
     "data": {
      "text/plain": [
       "2"
      ]
     },
     "execution_count": 5,
     "metadata": {},
     "output_type": "execute_result"
    }
   ],
   "source": [
    "5%3"
   ]
  },
  {
   "cell_type": "code",
   "execution_count": 3,
   "id": "d0ccb03b",
   "metadata": {},
   "outputs": [
    {
     "data": {
      "text/plain": [
       "0"
      ]
     },
     "execution_count": 3,
     "metadata": {},
     "output_type": "execute_result"
    }
   ],
   "source": [
    "6%3"
   ]
  },
  {
   "cell_type": "code",
   "execution_count": 6,
   "id": "c2a41344",
   "metadata": {},
   "outputs": [
    {
     "data": {
      "text/plain": [
       "1"
      ]
     },
     "execution_count": 6,
     "metadata": {},
     "output_type": "execute_result"
    }
   ],
   "source": [
    "7%3"
   ]
  },
  {
   "cell_type": "code",
   "execution_count": 12,
   "id": "b996eed6",
   "metadata": {},
   "outputs": [
    {
     "name": "stdout",
     "output_type": "stream",
     "text": [
      "Go for it R rated movie time\n"
     ]
    }
   ],
   "source": [
    "age = 25\n",
    "\n",
    "if age > 17:\n",
    "    print(\"Go for it R rated movie time\")\n",
    "elif age > 12 and age < 17:\n",
    "    print(\"can see a pg-13 movie\")\n",
    "else:\n",
    "    print(\"can only see PG movies\")"
   ]
  },
  {
   "cell_type": "code",
   "execution_count": 13,
   "id": "6a8d0057",
   "metadata": {},
   "outputs": [
    {
     "name": "stdout",
     "output_type": "stream",
     "text": [
      "the  variable does not have the value 3\n"
     ]
    }
   ],
   "source": [
    "a = 6\n",
    "if a==3:\n",
    "    print(\"the variable has the value 3\")\n",
    "elif a !=3:\n",
    "    print(\"the  variable does not have the value 3\")"
   ]
  },
  {
   "cell_type": "code",
   "execution_count": null,
   "id": "c7aa1eb3",
   "metadata": {},
   "outputs": [],
   "source": []
  }
 ],
 "metadata": {
  "kernelspec": {
   "display_name": "Python 3",
   "language": "python",
   "name": "python3"
  },
  "language_info": {
   "codemirror_mode": {
    "name": "ipython",
    "version": 3
   },
   "file_extension": ".py",
   "mimetype": "text/x-python",
   "name": "python",
   "nbconvert_exporter": "python",
   "pygments_lexer": "ipython3",
   "version": "3.8.5"
  }
 },
 "nbformat": 4,
 "nbformat_minor": 5
}
