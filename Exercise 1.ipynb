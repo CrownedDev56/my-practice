{
 "cells": [
  {
   "cell_type": "code",
   "execution_count": 2,
   "id": "95ed9ecf",
   "metadata": {},
   "outputs": [
    {
     "name": "stdout",
     "output_type": "stream",
     "text": [
      "Please enter your name: tafadzwa\n"
     ]
    }
   ],
   "source": [
    "name = str(input(\"Please enter your name: \"))"
   ]
  },
  {
   "cell_type": "code",
   "execution_count": 3,
   "id": "857fb874",
   "metadata": {},
   "outputs": [
    {
     "name": "stdout",
     "output_type": "stream",
     "text": [
      "Please enter your age: 25\n"
     ]
    }
   ],
   "source": [
    "age = int(input(\"Please enter your age: \"))"
   ]
  },
  {
   "cell_type": "code",
   "execution_count": 6,
   "id": "d360fd7d",
   "metadata": {},
   "outputs": [
    {
     "name": "stdout",
     "output_type": "stream",
     "text": [
      "Hello tafadzwa you are 25years old.\n"
     ]
    }
   ],
   "source": [
    "print(\"Hello \" + name + \" you are \" + str(age) + \"years old.\")"
   ]
  },
  {
   "cell_type": "code",
   "execution_count": null,
   "id": "4e0c618a",
   "metadata": {},
   "outputs": [],
   "source": []
  }
 ],
 "metadata": {
  "kernelspec": {
   "display_name": "Python 3",
   "language": "python",
   "name": "python3"
  },
  "language_info": {
   "codemirror_mode": {
    "name": "ipython",
    "version": 3
   },
   "file_extension": ".py",
   "mimetype": "text/x-python",
   "name": "python",
   "nbconvert_exporter": "python",
   "pygments_lexer": "ipython3",
   "version": "3.8.5"
  }
 },
 "nbformat": 4,
 "nbformat_minor": 5
}
