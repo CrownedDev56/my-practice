{
 "cells": [
  {
   "cell_type": "code",
   "execution_count": 1,
   "id": "75b58442",
   "metadata": {},
   "outputs": [],
   "source": [
    "a = [1,1,2,3,5,8,13,21,34,55,89]\n",
    "b = [1,2,3,4,5,6,7,8,9,10,11,12,23]"
   ]
  },
  {
   "cell_type": "code",
   "execution_count": 7,
   "id": "ad03744b",
   "metadata": {},
   "outputs": [
    {
     "data": {
      "text/plain": [
       "True"
      ]
     },
     "execution_count": 7,
     "metadata": {},
     "output_type": "execute_result"
    }
   ],
   "source": [
    "1 in a "
   ]
  },
  {
   "cell_type": "code",
   "execution_count": 8,
   "id": "8e978971",
   "metadata": {},
   "outputs": [
    {
     "data": {
      "text/plain": [
       "True"
      ]
     },
     "execution_count": 8,
     "metadata": {},
     "output_type": "execute_result"
    }
   ],
   "source": [
    "3 in a or b"
   ]
  },
  {
   "cell_type": "code",
   "execution_count": null,
   "id": "2e135646",
   "metadata": {},
   "outputs": [],
   "source": [
    "list_of_students = [\"Michele\", \"Sara\", \"Cassie\"]"
   ]
  },
  {
   "cell_type": "code",
   "execution_count": null,
   "id": "ccd63eb8",
   "metadata": {},
   "outputs": [],
   "source": [
    "name = str(input(\"Please input student name: \"))\n"
   ]
  },
  {
   "cell_type": "code",
   "execution_count": null,
   "id": "ba47a452",
   "metadata": {},
   "outputs": [],
   "source": [
    "if name in list_of_students:\n",
    "    print(name + \" is enrolled\")"
   ]
  }
 ],
 "metadata": {
  "kernelspec": {
   "display_name": "Python 3",
   "language": "python",
   "name": "python3"
  },
  "language_info": {
   "codemirror_mode": {
    "name": "ipython",
    "version": 3
   },
   "file_extension": ".py",
   "mimetype": "text/x-python",
   "name": "python",
   "nbconvert_exporter": "python",
   "pygments_lexer": "ipython3",
   "version": "3.8.5"
  }
 },
 "nbformat": 4,
 "nbformat_minor": 5
}
