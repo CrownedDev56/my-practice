{
 "cells": [
  {
   "cell_type": "code",
   "execution_count": 3,
   "id": "e6823fd0",
   "metadata": {},
   "outputs": [
    {
     "name": "stdout",
     "output_type": "stream",
     "text": [
      "Please enter a word: ana\n",
      "This word is a palindrome\n"
     ]
    }
   ],
   "source": [
    "word = input(\"Please enter a word: \")\n",
    "word = str(word)\n",
    "reverse=word[::-1]\n",
    "if word == reverse:\n",
    "    print(\"This word IS a palindrome\")\n",
    "else:\n",
    "    print(\"this is NOT a palindrome\")"
   ]
  },
  {
   "cell_type": "code",
   "execution_count": null,
   "id": "17946add",
   "metadata": {},
   "outputs": [],
   "source": [
    "def reverse(word):\n",
    "    x = ''\n",
    "    for i in range(len(word)):\n",
    "        x += word[len(word)-1-i]\n",
    "        \n",
    "    return x\n",
    "\n",
    "\n",
    "word = input('give me a word :\\n')\n",
    "x = reverse(word)\n",
    "\n",
    "if x == word:\n",
    "    print('This IS a palindrome')\n",
    "else:\n",
    "    print('This is NOT a Palindrome')"
   ]
  }
 ],
 "metadata": {
  "kernelspec": {
   "display_name": "Python 3",
   "language": "python",
   "name": "python3"
  },
  "language_info": {
   "codemirror_mode": {
    "name": "ipython",
    "version": 3
   },
   "file_extension": ".py",
   "mimetype": "text/x-python",
   "name": "python",
   "nbconvert_exporter": "python",
   "pygments_lexer": "ipython3",
   "version": "3.8.5"
  }
 },
 "nbformat": 4,
 "nbformat_minor": 5
}
